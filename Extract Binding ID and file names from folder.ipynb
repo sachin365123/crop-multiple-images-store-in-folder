{
 "cells": [
  {
   "cell_type": "code",
   "execution_count": 1,
   "id": "887bfa4d",
   "metadata": {},
   "outputs": [],
   "source": [
    "from cv2 import imread, imwrite\n",
    "from os import listdir"
   ]
  },
  {
   "cell_type": "code",
   "execution_count": 24,
   "id": "9999133d",
   "metadata": {},
   "outputs": [],
   "source": [
    "source_path = \"D:\\\\AAAAAA Teleperformance\\\\Image Cropping Binding ID Project\\\\chunk1\\\\\"\n",
    "\n",
    "save_path = \"D:\\\\AAAAAA Teleperformance\\\\Image Cropping Binding ID Project\\\\chunk1_cropped\\\\\"\n",
    "log_file_path = \"D:\\\\AAAAAA Teleperformance\\\\Image Cropping Binding ID Project\\\\\""
   ]
  },
  {
   "cell_type": "code",
   "execution_count": 3,
   "id": "03355908",
   "metadata": {},
   "outputs": [
    {
     "name": "stdout",
     "output_type": "stream",
     "text": [
      "Cropping all images is successfully done\n"
     ]
    }
   ],
   "source": [
    "# images = [f for f in listdir(source_path)]\n",
    "# i = 1\n",
    "\n",
    "# for image in images:\n",
    "#     try:\n",
    "#         img = imread(source_path + image)\n",
    "#         height, width = img.shape[:2]\n",
    "#         start_row, start_col = int(height*.03), int(width*.03)\n",
    "#         end_row, end_col = int(height*.88), int(width*.88)\n",
    "#         cropped_img = img[start_row:end_row, start_col:end_col]\n",
    "#         imwrite(save_path + str(i) + \".jpg\", cropped_img)\n",
    "#         log = open(log_file_path + \"logs.txt\", \"a+\")\n",
    "#         log.write(str(\"Current Image: \" + image + \"\\t\" + \"Saved as: \" + str(i) + \".jpg\" + \"\\n\"))\n",
    "#         log.close()\n",
    "#         i += 1\n",
    "\n",
    "#     except Exception as e:\n",
    "#         print(\"Failed to crop Image: \" + str(e))\n",
    "#         break\n",
    "\n",
    "\n",
    "# print('Cropping all images is successfully done')"
   ]
  },
  {
   "cell_type": "code",
   "execution_count": 11,
   "id": "a389f768",
   "metadata": {},
   "outputs": [
    {
     "name": "stderr",
     "output_type": "stream",
     "text": [
      "C:\\Users\\Sachin\\AppData\\Local\\Temp\\ipykernel_14904\\3970781969.py:15: DeprecationWarning: Starting with ImageIO v3 the behavior of this function will switch to that of iio.v3.imread. To keep the current behavior (and make this warning dissapear) use `import imageio.v2 as imageio` or call `imageio.v2.imread` directly.\n",
      "  img = imread(source_path + image)\n"
     ]
    },
    {
     "name": "stdout",
     "output_type": "stream",
     "text": [
      "Cropping all images is successfully done\n"
     ]
    }
   ],
   "source": [
    "# Cropping images with same names\n",
    "from os import listdir\n",
    "from imageio import imread, imwrite\n",
    "\n",
    "source_path = \"D:\\\\AAAAAA Teleperformance\\\\Image Cropping Binding ID Project\\\\chunk2\\\\\"\n",
    "\n",
    "save_path = \"D:\\\\AAAAAA Teleperformance\\\\Image Cropping Binding ID Project\\\\chunk2_cropped\\\\\"\n",
    "log_file_path = \"D:\\\\AAAAAA Teleperformance\\\\Image Cropping Binding ID Project\\\\chunk2_cropped\\\\\"\n",
    "\n",
    "images = [f for f in listdir(source_path)]\n",
    "i = 1\n",
    "\n",
    "for image in images:\n",
    "    try:\n",
    "        img = imread(source_path + image)\n",
    "        height, width = img.shape[:2]\n",
    "        start_row, start_col = int(height * 0.03), int(width * 0.03)\n",
    "        end_row, end_col = int(height * 0.88), int(width * 0.88)\n",
    "        cropped_img = img[start_row:end_row, start_col:end_col]\n",
    "        save_filename = image  # Keep the original filename\n",
    "        imwrite(save_path + save_filename, cropped_img)\n",
    "        log = open(log_file_path + \"logs.txt\", \"a+\")\n",
    "        log.write(str(\"Current Image: \" + image + \"\\t\" + \"Saved as: \" + save_filename + \"\\n\"))\n",
    "        log.close()\n",
    "        i += 1\n",
    "\n",
    "    except Exception as e:\n",
    "        print(\"Failed to crop Image: \" + str(e))\n",
    "        break\n",
    "\n",
    "print('Cropping all images is successfully done')\n"
   ]
  },
  {
   "cell_type": "code",
   "execution_count": null,
   "id": "58cceaec",
   "metadata": {},
   "outputs": [],
   "source": []
  },
  {
   "cell_type": "code",
   "execution_count": null,
   "id": "22344629",
   "metadata": {},
   "outputs": [],
   "source": []
  },
  {
   "cell_type": "code",
   "execution_count": null,
   "id": "391b0feb",
   "metadata": {},
   "outputs": [],
   "source": []
  },
  {
   "cell_type": "code",
   "execution_count": 5,
   "id": "04cec38b",
   "metadata": {},
   "outputs": [
    {
     "name": "stdout",
     "output_type": "stream",
     "text": [
      "Full Text:\n",
      "App Version\n",
      "Binding ID\n",
      "\n",
      "Copyright\n",
      "\n",
      "Trademarks\n",
      "\n",
      "Privacy Policy\n",
      "\n",
      "Ba te Gul Ga):\n",
      "\n",
      "About\n",
      "\n",
      "4.3.0.11 (183)\n",
      "\n",
      "A24A 129E 88B3\n",
      "8D5D F1B6 1811\n",
      "\n",
      "<\n",
      "\n",
      "© 2009-2023 RSA\n",
      "Security LLC or its\n",
      "\n",
      "affiliates. All rights\n",
      "reserved.\n",
      "\n",
      "RSA Conference\n",
      "logo, RSA, and\n",
      "other trademarks\n",
      "are trademarks of\n",
      "RSA Security LLC\n",
      "or its affiliates.\n",
      "\n",
      "For a list of RSA\n",
      "trademarks, hitps://\n",
      "www.rsa.com/\n",
      "en-us/company/\n",
      "rsa-trademarks. Other\n",
      "trademarks are\n",
      "trademarks of their\n",
      "respective owners.\n",
      "\n",
      "https://www.rsa\n",
      ".com/wp-content\n",
      "/uploads/RSA_mobile\n",
      "-application-privacy\n",
      "pdf\n",
      "\n",
      "\n",
      "\n",
      "ROI Text:\n",
      "0Version 4.3.0\n",
      "\n",
      "ding ID A24/\n",
      "8D5L\n",
      "\n"
     ]
    }
   ],
   "source": [
    "# from PIL import Image\n",
    "# import pytesseract\n",
    "# from PIL import Image, ImageDraw\n",
    "# # image = Image.open('C:/Users/Sachin/OneDrive/Desktop/delete/B/17A82821-1EE9-4B41-93B0-7F155814D08D - Srishti Sharma.png')\n",
    "# # image = Image.open('C:/Users/Sachin/OneDrive/Desktop/delete/B/17A82821-1EE9-4B41-93B0-7F155814D08D - Srishti Sharma.png')\n",
    "# # image = Image.open('C:/Users/Sachin/OneDrive/Desktop/delete/B/19D7D803-60BA-45FC-A81D-A7C6244B19E6 - Lomlom Annyuhu.png')\n",
    "# image = Image.open('C:/Users/Sachin/OneDrive/Desktop/delete/B/Aftab Hussain.png')\n",
    "\n",
    "\n",
    "# # Full text extraction\n",
    "# full_text = pytesseract.image_to_string(image)\n",
    "\n",
    "# # Extract text from a specific region (ROI)\n",
    "# # Define the bounding box (left, upper, right, lower) for the region you want to extract\n",
    "# roi = (100, 200, 400, 400)  # Example: (x1, y1, x2, y2)\n",
    "# roi_text = pytesseract.image_to_string(image.crop(roi))\n",
    "# # Print the extracted text\n",
    "# print(\"Full Text:\")\n",
    "# print(full_text)\n",
    "\n",
    "# print(\"\\nROI Text:\")\n",
    "# print(roi_text)"
   ]
  },
  {
   "cell_type": "code",
   "execution_count": 27,
   "id": "936265cc",
   "metadata": {},
   "outputs": [
    {
     "name": "stdout",
     "output_type": "stream",
     "text": [
      "Results saved to chunk1_image_text_results.csv\n"
     ]
    }
   ],
   "source": [
    "from PIL import Image\n",
    "import pytesseract\n",
    "import os\n",
    "import csv\n",
    "\n",
    "# Create a list to store the results\n",
    "results = []\n",
    "\n",
    "# Specify the directory containing the images\n",
    "image_directory = 'D:\\\\AAAAAA Teleperformance\\\\Image Cropping Binding ID Project\\\\chunk1_cropped\\\\'\n",
    "\n",
    "# Loop through all files in the directory\n",
    "for filename in os.listdir(image_directory):\n",
    "    if filename.endswith('.jpg') or filename.endswith('.jpeg') :  # You can change the file extension as needed\n",
    "        # Open the image\n",
    "        image_path = os.path.join(image_directory, filename)\n",
    "        image = Image.open(image_path)\n",
    "\n",
    "        # Full text extraction\n",
    "#         full_text = pytesseract.image_to_string(image)\n",
    "        full_text = pytesseract.image_to_string(image, config='--psm 6 -l eng')\n",
    "        \n",
    "\n",
    "\n",
    "        # Extract text from a specific region (ROI)\n",
    "        roi = (100, 200, 400, 400)  # Example: (x1, y1, x2, y2)\n",
    "#         roi_text = pytesseract.image_to_string(image.crop(roi))\n",
    "        roi_text = pytesseract.image_to_string(image.crop(roi), config='--psm 6 -l eng')\n",
    "\n",
    "        # Append the results to the list\n",
    "        results.append({\n",
    "            'Filename': filename,\n",
    "            'Full Text': full_text,\n",
    "            'ROI Text': roi_text\n",
    "        })\n",
    "\n",
    "# Define the path for the CSV file to store the results\n",
    "csv_filename = 'chunk1_image_text_results.csv'\n",
    "\n",
    "# Write the results to a CSV file\n",
    "with open(csv_filename, mode='w', newline='', encoding='utf-8') as csv_file:\n",
    "    fieldnames = ['Filename', 'Full Text', 'ROI Text']\n",
    "    writer = csv.DictWriter(csv_file, fieldnames=fieldnames)\n",
    "    \n",
    "    # Write the header row\n",
    "    writer.writeheader()\n",
    "    \n",
    "    # Write the data rows\n",
    "    for result in results:\n",
    "        writer.writerow(result)\n",
    "\n",
    "print(f'Results saved to {csv_filename}')\n",
    "\n"
   ]
  },
  {
   "cell_type": "code",
   "execution_count": 28,
   "id": "95c85ff7",
   "metadata": {},
   "outputs": [
    {
     "name": "stdout",
     "output_type": "stream",
     "text": [
      "CSV file \"chunk1_image_text_results.csv\" has been converted to Excel file \"chunk1__new_image_text_results.xlsx\"\n"
     ]
    }
   ],
   "source": [
    "import pandas as pd\n",
    "\n",
    "# Specify the CSV and Excel file names\n",
    "csv_filename = 'chunk1_image_text_results.csv'\n",
    "excel_filename = 'chunk1__new_image_text_results.xlsx'\n",
    "\n",
    "# Read the CSV file into a DataFrame\n",
    "df = pd.read_csv(csv_filename)\n",
    "\n",
    "# Write the DataFrame to an Excel file\n",
    "df.to_excel(excel_filename, index=False)\n",
    "\n",
    "print(f'CSV file \"{csv_filename}\" has been converted to Excel file \"{excel_filename}\"')\n"
   ]
  },
  {
   "cell_type": "code",
   "execution_count": 29,
   "id": "1968db7d",
   "metadata": {},
   "outputs": [
    {
     "name": "stdout",
     "output_type": "stream",
     "text": [
      "Image file names saved to image_file_names.xlsx\n"
     ]
    }
   ],
   "source": [
    "# Extract file names only from folder\n",
    "import os\n",
    "import pandas as pd\n",
    "\n",
    "# Specify the directory containing the images\n",
    "image_directory = 'D:\\\\AAAAAA Teleperformance\\\\Image Cropping Binding ID Project\\\\total images\\\\'\n",
    "\n",
    "# Get a list of all image files in the directory\n",
    "image_files = [filename for filename in os.listdir(image_directory) if filename.lower().endswith(('.jpg', '.jpeg', '.png', '.gif'))]\n",
    "\n",
    "# Create a DataFrame to store the image file names\n",
    "df = pd.DataFrame({'Image File Names': image_files})\n",
    "\n",
    "# Specify the path for the Excel file\n",
    "excel_filename = 'image_file_names.xlsx'\n",
    "\n",
    "# Save the DataFrame to an Excel file\n",
    "df.to_excel(excel_filename, index=False)\n",
    "\n",
    "print(f'Image file names saved to {excel_filename}')\n"
   ]
  },
  {
   "cell_type": "code",
   "execution_count": 33,
   "id": "3b1d1188",
   "metadata": {},
   "outputs": [
    {
     "name": "stdout",
     "output_type": "stream",
     "text": [
      "                                      Image File Names  Unnamed: 1  \\\n",
      "5    1700638F-01F8-4134-86F8-D309D53034EE - Parv Ju...         NaN   \n",
      "6    17A82821-1EE9-4B41-93B0-7F155814D08D - Srishti...         NaN   \n",
      "8    19D7D803-60BA-45FC-A81D-A7C6244B19E6 - Lomlom ...         NaN   \n",
      "10   42BE0E56-B097-4EA0-9854-B58F1A5D47F0 - Sehul P...         NaN   \n",
      "11   5965D2C4-8B23-40A8-B204-856DAA7AD18B - arjun v...         NaN   \n",
      "..                                                 ...         ...   \n",
      "448  WhatsApp Image 2023-09-26 at 14.44.14 - El Dip...         NaN   \n",
      "449  WhatsApp Image 2023-09-26 at 5.43.31 PM - afsh...         NaN   \n",
      "450  WhatsApp Image 2023-09-26 at 7.16.08 PM - Anch...         NaN   \n",
      "451  WhatsApp Image 2023-09-26 at 8.47.55 PM - Aree...         NaN   \n",
      "452                Yogesh Badekar - Yogesh Badekar.jpg         NaN   \n",
      "\n",
      "     Unnamed: 2  Unnamed: 3  Unnamed: 4  Unnamed: 5  \\\n",
      "5           NaN         NaN         NaN         NaN   \n",
      "6           NaN         NaN         NaN         NaN   \n",
      "8           NaN         NaN         NaN         NaN   \n",
      "10          NaN         NaN         NaN         NaN   \n",
      "11          NaN         NaN         NaN         NaN   \n",
      "..          ...         ...         ...         ...   \n",
      "448         NaN         NaN         NaN         NaN   \n",
      "449         NaN         NaN         NaN         NaN   \n",
      "450         NaN         NaN         NaN         NaN   \n",
      "451         NaN         NaN         NaN         NaN   \n",
      "452         NaN         NaN         NaN         NaN   \n",
      "\n",
      "                                     Image File Names2  \n",
      "5    17CC7551-8945-4D8B-98D2-4711C447C0A6 - Anshika...  \n",
      "6    3180ee20-8521-44d9-b2dc-d78575b4200f - Vanshik...  \n",
      "8                              Abdul Mannan Mahimi.jpg  \n",
      "10      Afreen Qureshi Biding  ID - Afreen Qureshi.jpg  \n",
      "11                    Afreen Sayyed - Afrin Sayyed.jpg  \n",
      "..                                                 ...  \n",
      "448                                                NaN  \n",
      "449                                                NaN  \n",
      "450                                                NaN  \n",
      "451                                                NaN  \n",
      "452                                                NaN  \n",
      "\n",
      "[182 rows x 7 columns]\n",
      "Uncommon values saved to uncommon_values.xlsx\n"
     ]
    }
   ],
   "source": [
    "# find uncommon names\n",
    "import pandas as pd\n",
    "\n",
    "# Load the Excel file with two columns\n",
    "excel_file = 'D:\\AAAAAA Teleperformance\\Image Cropping Binding ID Project\\Revision 4 Image names and respective Binding ID - Copy.xlsx'  # Replace with your actual Excel file path\n",
    "df = pd.read_excel(excel_file)\n",
    "\n",
    "# Check which values in the first column are not in the second column\n",
    "uncommon_in_column1 = df[~df['Image File Names'].isin(df['Image File Names2'])]\n",
    "\n",
    "# Check which values in the second column are not in the first column\n",
    "uncommon_in_column2 = df[~df['Image File Names2'].isin(df['Image File Names'])]\n",
    "\n",
    "# Concatenate the two DataFrames to get all uncommon values\n",
    "uncommon_values = pd.concat([uncommon_in_column1, uncommon_in_column2])\n",
    "\n",
    "# Specify the path for the new Excel file to store the uncommon values\n",
    "output_excel_file = 'uncommon_values.xlsx'\n",
    "# Display the uncommon values\n",
    "print(uncommon_values)\n",
    "# Save the uncommon values DataFrame to a new Excel sheet\n",
    "uncommon_values.to_excel(output_excel_file, index=False)\n",
    "\n",
    "print(f'Uncommon values saved to {output_excel_file}')\n"
   ]
  },
  {
   "cell_type": "code",
   "execution_count": null,
   "id": "84ee328f",
   "metadata": {},
   "outputs": [],
   "source": []
  },
  {
   "cell_type": "code",
   "execution_count": null,
   "id": "5bddc304",
   "metadata": {},
   "outputs": [],
   "source": []
  },
  {
   "cell_type": "code",
   "execution_count": null,
   "id": "9c41ab1d",
   "metadata": {},
   "outputs": [],
   "source": []
  },
  {
   "cell_type": "code",
   "execution_count": null,
   "id": "9854579e",
   "metadata": {},
   "outputs": [],
   "source": []
  }
 ],
 "metadata": {
  "kernelspec": {
   "display_name": "Python 3 (ipykernel)",
   "language": "python",
   "name": "python3"
  },
  "language_info": {
   "codemirror_mode": {
    "name": "ipython",
    "version": 3
   },
   "file_extension": ".py",
   "mimetype": "text/x-python",
   "name": "python",
   "nbconvert_exporter": "python",
   "pygments_lexer": "ipython3",
   "version": "3.9.13"
  }
 },
 "nbformat": 4,
 "nbformat_minor": 5
}
