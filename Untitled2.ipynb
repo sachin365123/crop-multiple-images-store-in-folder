{
 "cells": [
  {
   "cell_type": "code",
   "execution_count": 1,
   "id": "dd74aab5",
   "metadata": {},
   "outputs": [],
   "source": [
    "from cv2 import imread, imwrite\n",
    "from os import listdir"
   ]
  },
  {
   "cell_type": "code",
   "execution_count": 2,
   "id": "90fc99c0",
   "metadata": {},
   "outputs": [],
   "source": [
    "source_path = \"C:\\\\Sachin Documents\\\\Image Processing\\\\Binding ID Screenshot\\\\set1\\\\\"\n",
    "save_path = \"C:\\\\Sachin Documents\\\\Image Processing\\\\Binding ID Screenshot\\\\New\\\\\"\n",
    "log_file_path = \"C:\\\\Sachin Documents\\\\Image Processing\\\\Binding ID Screenshot\\\\\\\\logs1\\\\\""
   ]
  },
  {
   "cell_type": "code",
   "execution_count": 15,
   "id": "e435245c",
   "metadata": {},
   "outputs": [
    {
     "name": "stdout",
     "output_type": "stream",
     "text": [
      "Cropping all images is successfully done\n"
     ]
    }
   ],
   "source": [
    "images = [f for f in listdir(source_path)]\n",
    "i = 1\n",
    "\n",
    "for image in images:\n",
    "    try:\n",
    "        img = imread(source_path + image)\n",
    "        height, width = img.shape[:2]\n",
    "        start_row, start_col = int(height*.15), int(width*.22)\n",
    "        end_row, end_col = int(height*.22), int(width*.88)\n",
    "#         start_row, start_col = 451,435\n",
    "#         end_row, end_col = 575, 900\n",
    "        cropped_img = img[start_row:end_row, start_col:end_col]\n",
    "        imwrite(save_path + str(i) + \".jpg\", cropped_img)\n",
    "        log = open(log_file_path + \"logs.txt\", \"a+\")\n",
    "        log.write(str(\"Current Image: \" + image + \"\\t\" + \"Saved as: \" + str(i) + \".jpg\" + \"\\n\"))\n",
    "        log.close()\n",
    "        i += 1\n",
    "\n",
    "    except Exception as e:\n",
    "        print(\"Failed to crop Image: \" + str(e))\n",
    "        break\n",
    "\n",
    "\n",
    "print('Cropping all images is successfully done')\n"
   ]
  },
  {
   "cell_type": "code",
   "execution_count": null,
   "id": "5eb92f19",
   "metadata": {},
   "outputs": [],
   "source": []
  }
 ],
 "metadata": {
  "kernelspec": {
   "display_name": "Python 3 (ipykernel)",
   "language": "python",
   "name": "python3"
  },
  "language_info": {
   "codemirror_mode": {
    "name": "ipython",
    "version": 3
   },
   "file_extension": ".py",
   "mimetype": "text/x-python",
   "name": "python",
   "nbconvert_exporter": "python",
   "pygments_lexer": "ipython3",
   "version": "3.10.9"
  }
 },
 "nbformat": 4,
 "nbformat_minor": 5
}
